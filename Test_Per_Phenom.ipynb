{
 "cells": [
  {
   "cell_type": "markdown",
   "metadata": {},
   "source": [
    "# Testing a Perceptual Phenomenon\n",
    "\n",
    "## Table of Contents\n",
    "><ul>   \n",
    "><li><a href=\"#intro\">Introduction</a></li>\n",
    "><li><a href=\"#desc\">Descriptive Statistics</a></li>\n",
    "><li><a href=\"#vis\">Visualizations</a></li>\n",
    "><li><a href=\"#res\">Results</a></li>\n",
    "><li><a href=\"#sumres\">Summary of Results</a></li>\n",
    "><li><a href=\"#ref\">References</a></li>\n",
    "></ul>"
   ]
  },
  {
   "cell_type": "markdown",
   "metadata": {},
   "source": [
    "<a id='intro'></a>\n",
    "# Introduction\n",
    "> 1. What is our independent variable? What is our dependent variable?\n",
    ">> - The independent variables are congruency and incongruency\n",
    ">> - The depenedent variable is time\n",
    ">\n",
    ">2. What is an appropriate set of hypotheses for this task? What kind of statistical test do you expect to perform? Justify your choices.\n",
    ">> - An appropriate null hypothesis is that the congruency will not affect the time needed to complete the test\n",
    ">>\n",
    ">>   H0: μ0 = μ1 \n",
    ">>\n",
    ">>\n",
    ">> - The alternative hypothesis is that congruency will affect the time needed to complete the test\n",
    ">>\n",
    ">>   H1: μ0 $\\neq$ μ1\n",
    ">>\n",
    ">>   μ0 : congruent mean      \n",
    ">>   μ1 : incongruent mean\n",
    ">>\n",
    ">>\n",
    ">> - I will be using a dependent sample t-test to determine if there is a statistical difference in time needed for the two word groups. I  chose the dependant sample t-test because it can help to determine if there is statisticaly significant difference between the two means  "
   ]
  },
  {
   "cell_type": "code",
   "execution_count": 1,
   "metadata": {},
   "outputs": [],
   "source": [
    "%matplotlib inline"
   ]
  },
  {
   "cell_type": "code",
   "execution_count": 2,
   "metadata": {},
   "outputs": [],
   "source": [
    "import pandas as pd\n",
    "import numpy as np\n",
    "import seaborn as sns\n",
    "import matplotlib.pyplot as plt\n",
    "plt.style.use('seaborn')"
   ]
  },
  {
   "cell_type": "code",
   "execution_count": 3,
   "metadata": {},
   "outputs": [
    {
     "data": {
      "text/plain": [
       "(24, 2)"
      ]
     },
     "execution_count": 3,
     "metadata": {},
     "output_type": "execute_result"
    }
   ],
   "source": [
    "raw_df = pd.read_csv('stroopdata.csv')\n",
    "raw_df.shape #check df"
   ]
  },
  {
   "cell_type": "code",
   "execution_count": 4,
   "metadata": {},
   "outputs": [
    {
     "data": {
      "text/plain": [
       "Congruent      float64\n",
       "Incongruent    float64\n",
       "dtype: object"
      ]
     },
     "execution_count": 4,
     "metadata": {},
     "output_type": "execute_result"
    }
   ],
   "source": [
    "raw_df.dtypes #check data types"
   ]
  },
  {
   "cell_type": "code",
   "execution_count": 5,
   "metadata": {},
   "outputs": [
    {
     "data": {
      "text/html": [
       "<div>\n",
       "<style scoped>\n",
       "    .dataframe tbody tr th:only-of-type {\n",
       "        vertical-align: middle;\n",
       "    }\n",
       "\n",
       "    .dataframe tbody tr th {\n",
       "        vertical-align: top;\n",
       "    }\n",
       "\n",
       "    .dataframe thead th {\n",
       "        text-align: right;\n",
       "    }\n",
       "</style>\n",
       "<table border=\"1\" class=\"dataframe\">\n",
       "  <thead>\n",
       "    <tr style=\"text-align: right;\">\n",
       "      <th></th>\n",
       "      <th>Congruent</th>\n",
       "      <th>Incongruent</th>\n",
       "    </tr>\n",
       "  </thead>\n",
       "  <tbody>\n",
       "    <tr>\n",
       "      <th>0</th>\n",
       "      <td>12.079</td>\n",
       "      <td>19.278</td>\n",
       "    </tr>\n",
       "    <tr>\n",
       "      <th>1</th>\n",
       "      <td>16.791</td>\n",
       "      <td>18.741</td>\n",
       "    </tr>\n",
       "    <tr>\n",
       "      <th>2</th>\n",
       "      <td>9.564</td>\n",
       "      <td>21.214</td>\n",
       "    </tr>\n",
       "    <tr>\n",
       "      <th>3</th>\n",
       "      <td>8.630</td>\n",
       "      <td>15.687</td>\n",
       "    </tr>\n",
       "    <tr>\n",
       "      <th>4</th>\n",
       "      <td>14.669</td>\n",
       "      <td>22.803</td>\n",
       "    </tr>\n",
       "  </tbody>\n",
       "</table>\n",
       "</div>"
      ],
      "text/plain": [
       "   Congruent  Incongruent\n",
       "0     12.079       19.278\n",
       "1     16.791       18.741\n",
       "2      9.564       21.214\n",
       "3      8.630       15.687\n",
       "4     14.669       22.803"
      ]
     },
     "execution_count": 5,
     "metadata": {},
     "output_type": "execute_result"
    }
   ],
   "source": [
    "raw_df.head() # take a quick look at the data"
   ]
  },
  {
   "cell_type": "markdown",
   "metadata": {},
   "source": [
    "<a id='desc'></a>\n",
    "# Desciptive Statistics\n",
    "> 3. Report some descriptive statistics regarding this dataset. Include at least one measure of central tendency and at least one measure of variability.\n",
    ">>\n",
    ">> I used the Pandas describe method for summary statistics including:\n",
    ">> - Mean, for central tendency\n",
    ">> - Standard deviation and interquartile range, for variability "
   ]
  },
  {
   "cell_type": "code",
   "execution_count": 6,
   "metadata": {},
   "outputs": [
    {
     "data": {
      "text/html": [
       "<div>\n",
       "<style scoped>\n",
       "    .dataframe tbody tr th:only-of-type {\n",
       "        vertical-align: middle;\n",
       "    }\n",
       "\n",
       "    .dataframe tbody tr th {\n",
       "        vertical-align: top;\n",
       "    }\n",
       "\n",
       "    .dataframe thead th {\n",
       "        text-align: right;\n",
       "    }\n",
       "</style>\n",
       "<table border=\"1\" class=\"dataframe\">\n",
       "  <thead>\n",
       "    <tr style=\"text-align: right;\">\n",
       "      <th></th>\n",
       "      <th>Congruent</th>\n",
       "      <th>Incongruent</th>\n",
       "    </tr>\n",
       "  </thead>\n",
       "  <tbody>\n",
       "    <tr>\n",
       "      <th>count</th>\n",
       "      <td>24.000000</td>\n",
       "      <td>24.000000</td>\n",
       "    </tr>\n",
       "    <tr>\n",
       "      <th>mean</th>\n",
       "      <td>14.051125</td>\n",
       "      <td>22.015917</td>\n",
       "    </tr>\n",
       "    <tr>\n",
       "      <th>std</th>\n",
       "      <td>3.559358</td>\n",
       "      <td>4.797057</td>\n",
       "    </tr>\n",
       "    <tr>\n",
       "      <th>min</th>\n",
       "      <td>8.630000</td>\n",
       "      <td>15.687000</td>\n",
       "    </tr>\n",
       "    <tr>\n",
       "      <th>25%</th>\n",
       "      <td>11.895250</td>\n",
       "      <td>18.716750</td>\n",
       "    </tr>\n",
       "    <tr>\n",
       "      <th>50%</th>\n",
       "      <td>14.356500</td>\n",
       "      <td>21.017500</td>\n",
       "    </tr>\n",
       "    <tr>\n",
       "      <th>75%</th>\n",
       "      <td>16.200750</td>\n",
       "      <td>24.051500</td>\n",
       "    </tr>\n",
       "    <tr>\n",
       "      <th>max</th>\n",
       "      <td>22.328000</td>\n",
       "      <td>35.255000</td>\n",
       "    </tr>\n",
       "  </tbody>\n",
       "</table>\n",
       "</div>"
      ],
      "text/plain": [
       "       Congruent  Incongruent\n",
       "count  24.000000    24.000000\n",
       "mean   14.051125    22.015917\n",
       "std     3.559358     4.797057\n",
       "min     8.630000    15.687000\n",
       "25%    11.895250    18.716750\n",
       "50%    14.356500    21.017500\n",
       "75%    16.200750    24.051500\n",
       "max    22.328000    35.255000"
      ]
     },
     "execution_count": 6,
     "metadata": {},
     "output_type": "execute_result"
    }
   ],
   "source": [
    "raw_df.describe()"
   ]
  },
  {
   "cell_type": "markdown",
   "metadata": {},
   "source": [
    "<a id='vis'></a>\n",
    "# Visualizations\n",
    "> 4. Provide one or two visualizations that show the distribution of the sample data. Write one or two sentences noting what you observe about the plot or plots.\n",
    ">>\n",
    ">><a href=\"#fig1\">Figure 1</a> plots the distribution of congruent data with an overlay of incongruent data. Both data groups appear to have normal distribution, however the values of the incongruent data are notably higher.\n",
    ">>\n",
    ">><a href=\"#fig2\">Figure 2</a> more clearly demonstrates the higher times for the incongruent data and highlights the presence of two outliers for the incongruent data\n",
    ">>\n",
    ">><a href=\"#fig3\">Figure 3</a> demonstrates that the summary statistics for the incongruent data are notably higher than the congruent data"
   ]
  },
  {
   "cell_type": "markdown",
   "metadata": {},
   "source": [
    "### Figure 1\n",
    "<a id='fig1'></a>"
   ]
  },
  {
   "cell_type": "code",
   "execution_count": 7,
   "metadata": {},
   "outputs": [
    {
     "data": {
      "text/plain": [
       "<matplotlib.legend.Legend at 0x21c6e88d470>"
      ]
     },
     "execution_count": 7,
     "metadata": {},
     "output_type": "execute_result"
    },
    {
     "data": {
      "image/png": "[encoded data removed]",
      "text/plain": [
       "<Figure size 1224x504 with 1 Axes>"
      ]
     },
     "metadata": {},
     "output_type": "display_data"
    }
   ],
   "source": [
    "fig, (ax1) = plt.subplots(ncols=1, figsize=(17,7))\n",
    "\n",
    "sns.distplot(raw_df['Congruent'], color = 'Green')\n",
    "sns.distplot(raw_df['Incongruent'], color = 'Orange', axlabel = 'Time')\n",
    "plt.legend(loc='upper right', labels=['Congruent', 'Incongruent'])"
   ]
  },
  {
   "cell_type": "markdown",
   "metadata": {},
   "source": [
    "### Figure 2\n",
    "<a id='fig2'></a>"
   ]
  },
  {
   "cell_type": "code",
   "execution_count": 8,
   "metadata": {},
   "outputs": [],
   "source": [
    "bd = raw_df.copy()"
   ]
  },
  {
   "cell_type": "code",
   "execution_count": 9,
   "metadata": {},
   "outputs": [],
   "source": [
    "bd2 = pd.melt( bd, value_vars=['Congruent', 'Incongruent'])"
   ]
  },
  {
   "cell_type": "code",
   "execution_count": 10,
   "metadata": {},
   "outputs": [
    {
     "data": {
      "text/plain": [
       "[Text(0, 0.5, ''), Text(0.5, 0, 'time')]"
      ]
     },
     "execution_count": 10,
     "metadata": {},
     "output_type": "execute_result"
    },
    {
     "data": {
      "image/png": "[encoded data removed]",
      "text/plain": [
       "<Figure size 1224x360 with 1 Axes>"
      ]
     },
     "metadata": {},
     "output_type": "display_data"
    }
   ],
   "source": [
    "fig, (ax1) = plt.subplots(ncols=1, figsize=(17,5))\n",
    "ax1 = sns.boxplot( y = 'variable', x = 'value', hue = 'variable',  data= bd2, ax = ax1, palette='Set2', orient='h')\n",
    "ax1.set(xlabel='time', ylabel='')"
   ]
  },
  {
   "cell_type": "markdown",
   "metadata": {},
   "source": [
    "### FIgure 3\n",
    "<a id='fig3'></a>"
   ]
  },
  {
   "cell_type": "code",
   "execution_count": 11,
   "metadata": {},
   "outputs": [],
   "source": [
    "rd =  raw_df.describe()"
   ]
  },
  {
   "cell_type": "code",
   "execution_count": 12,
   "metadata": {},
   "outputs": [],
   "source": [
    "rd.reset_index(inplace = True)\n",
    "nd = pd.melt( rd, id_vars=['index'], value_vars=['Congruent', 'Incongruent'])"
   ]
  },
  {
   "cell_type": "code",
   "execution_count": 13,
   "metadata": {
    "scrolled": true
   },
   "outputs": [
    {
     "data": {
      "text/plain": [
       "[Text(0, 0.5, 'value'), Text(0.5, 0, 'statistic')]"
      ]
     },
     "execution_count": 13,
     "metadata": {},
     "output_type": "execute_result"
    },
    {
     "data": {
      "image/png": "[encoded data removed]",
      "text/plain": [
       "<Figure size 1224x360 with 1 Axes>"
      ]
     },
     "metadata": {},
     "output_type": "display_data"
    }
   ],
   "source": [
    "fig, (ax1) = plt.subplots(ncols=1, figsize=(17,5))\n",
    "ax2 = sns.barplot( x = 'index', y = 'value', hue = 'variable',  data= nd, ax = ax1, palette ='Set2')\n",
    "ax2.set(xlabel='statistic', ylabel='value')"
   ]
  },
  {
   "cell_type": "markdown",
   "metadata": {},
   "source": [
    "<a id='res'></a>\n",
    "# Results"
   ]
  },
  {
   "cell_type": "code",
   "execution_count": 14,
   "metadata": {},
   "outputs": [
    {
     "name": "stdout",
     "output_type": "stream",
     "text": [
      "t-statistic = 8.0207 \n",
      "p-value = 4.1e-08 \n",
      "Degrees of Freedom = 23 \n",
      "Critical Value = 2.8073\n",
      "\n",
      "8.0207 > 2.8073   t-stat is greater than critical value\n",
      "\n",
      "4.1e-08 < 0.01    p-value is less than the threshhold\n"
     ]
    }
   ],
   "source": [
    "#Calculations for results\n",
    "from scipy.stats import ttest_rel as tt\n",
    "from scipy.stats import t\n",
    "\n",
    "conLev = 0.99\n",
    "thresh = round(1- conLev, 2)\n",
    "\n",
    "dof = len(raw_df)-1 #calculate degrees of freedom\n",
    "tStat, pValue = tt(raw_df['Congruent'], raw_df['Incongruent']) #calculate t-stat and p-value\n",
    "crit = t.ppf(0.995, dof) #calculate critical value. confidence level of 0.995 is for one sided which equals 0.99 two sided\n",
    "\n",
    "ts = round(abs(tStat), 4)\n",
    "pv = round(pValue, 10)\n",
    "cv = round(crit, 4)\n",
    "\n",
    "\n",
    "print( 't-statistic = {} \\np-value = {} \\nDegrees of Freedom = {} \\nCritical Value = {}'\n",
    "      .format(ts, pv, dof, cv))\n",
    "print('\\n{} > {}   t-stat is greater than critical value'.format(ts, cv))\n",
    "print('\\n{} < {}    p-value is less than the threshhold'.format(pv,  thresh))"
   ]
  },
  {
   "cell_type": "markdown",
   "metadata": {},
   "source": [
    "<a id='sumres'></a>\n",
    "# Summary of Results\n",
    ">5. Now, perform the statistical test and report your results. What is your confidence level and your critical statistic value? Do you reject the null hypothesis or fail to reject it? Come to a conclusion in terms of the experiment task. Did the results match up with your expectations?\n",
    ">>\n",
    ">> - The confidence level used for this test was 0.99 and the critical value was 2.8073\n",
    ">>- I reject the null hypothesis. The t-statistic was greater than the critical value and the p-value was less than the threshold of 0.01\n",
    ">>\n",
    ">> - The results were in line with my expectations due to my own experience with the Stroop effect. The incongruent samples required a split second of thinking that the congruent samples did not.\n",
    ">>"
   ]
  },
  {
   "cell_type": "markdown",
   "metadata": {},
   "source": [
    "<a id='ref'></a>\n",
    "# References\n",
    ">https://docs.scipy.org/doc/scipy/reference/generated/scipy.stats.ttest_rel.html\n",
    ">https://docs.scipy.org/doc/scipy/reference/generated/scipy.stats.f.html"
   ]
  }
 ],
 "metadata": {
  "kernelspec": {
   "display_name": "Python 3",
   "language": "python",
   "name": "python3"
  },
  "language_info": {
   "codemirror_mode": {
    "name": "ipython",
    "version": 3
   },
   "file_extension": ".py",
   "mimetype": "text/x-python",
   "name": "python",
   "nbconvert_exporter": "python",
   "pygments_lexer": "ipython3",
   "version": "3.7.3"
  }
 },
 "nbformat": 4,
 "nbformat_minor": 2
}
